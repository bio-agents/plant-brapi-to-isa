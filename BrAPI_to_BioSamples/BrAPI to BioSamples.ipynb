{
 "cells": [
  {
   "cell_type": "code",
   "execution_count": 1,
   "metadata": {
    "collapsed": true
   },
   "outputs": [],
   "source": [
    "from datetime import datetime, timedelta\n",
    "import pprint\n",
    "import json\n",
    "import subprocess\n",
    "import re\n",
    "import requests"
   ]
  },
  {
   "cell_type": "code",
   "execution_count": 5,
   "metadata": {
    "collapsed": true
   },
   "outputs": [],
   "source": [
    "brapi_url = 'http://pippa.psb.ugent.be/pippa_experiments/brapi/v1'"
   ]
  },
  {
   "cell_type": "markdown",
   "metadata": {},
   "source": [
    "# Functions"
   ]
  },
  {
   "cell_type": "code",
   "execution_count": 6,
   "metadata": {
    "collapsed": true
   },
   "outputs": [],
   "source": [
    "def get_germplasmName (name):\n",
    "    '''\n",
    "    BrAPI call to get germplasm by germPlasmName\n",
    "    '''\n",
    "    r = requests.get(\n",
    "        '%s/germplasm-search/' % brapi_url,\n",
    "        {\n",
    "            'pageSize': 100 ,\n",
    "            #'germplasmSpecies': 'Maize'\n",
    "            'germplasmName': name\n",
    "        }\n",
    "    )\n",
    "    json_data = r.json()\n",
    "    return json_data"
   ]
  },
  {
   "cell_type": "code",
   "execution_count": 7,
   "metadata": {
    "collapsed": false
   },
   "outputs": [],
   "source": [
    "def get_phenotype (\n",
    "    dbid = None , \n",
    "    studyid = None,\n",
    "    url = '%s/phenotype-search/' % brapi_url, \n",
    "    page = 1, \n",
    "    page_size = 50):\n",
    "    \n",
    "    info = {\n",
    "            'pageSize': page_size ,\n",
    "            'page': page\n",
    "        }\n",
    "    \n",
    "    if dbid:\n",
    "        info['germplasmDbIds'] = dbid\n",
    "    if studyid:\n",
    "        info['studyDbIds'] = studyid\n",
    "    \n",
    "    r = requests.post(\n",
    "        url,\n",
    "        info\n",
    "\n",
    "    )\n",
    "    if r.status_code == 200:\n",
    "        json_data = r.json()\n",
    "    else:\n",
    "        raise Exception('Perform experiment query failed!')\n",
    "\n",
    "    return json_data"
   ]
  },
  {
   "cell_type": "code",
   "execution_count": 8,
   "metadata": {
    "collapsed": true
   },
   "outputs": [],
   "source": [
    "def generate_biosample_json (start = 0, maximum = 1): \n",
    "    '''\n",
    "    Based on all phenotypes (because filtering did not work)\n",
    "    with the parameters you can limit to certain indexes as they come from get_phenotype() (>= start, <= start + maximum)\n",
    "    '''\n",
    "    p = get_phenotype()\n",
    "    index = 0\n",
    "    \n",
    "    jsons = []\n",
    "    for i in p['result']['data']:\n",
    "        if index < start:\n",
    "            continue\n",
    "        if index > start + maximum:\n",
    "            break\n",
    "            \n",
    "        germplasm = get_germplasmName(i['germplasmName'])\n",
    "        species = germplasm['result']['data'][0]['species']\n",
    "\n",
    "        yesterday = datetime.now() - timedelta(1)\n",
    "        sample_json = {\n",
    "            \"name\": \"{}_{}\".format(i['studyDbId'],i['plantNumber']),\n",
    "            \"update\": yesterday.strftime(\"%Y-%m-%dT%I:%M%:%S\"),\n",
    "            \"release\": yesterday.strftime(\"%Y-%m-%dT%I:%M%:%S\"),\n",
    "            \"characteristics\": {\n",
    "                 \"germplasm\": [\n",
    "                    {\n",
    "                        \"text\": i['germplasmName'],\n",
    "                        \"ontologyTerms\": [\"https://pippa.psb.ugent.be/pippa_experiments/brapi/v1/germplasm-search?germplasmName=%s\" % i['germplasmName'].replace(' ', '%20')]\n",
    "                      }\n",
    "                ],\n",
    "\n",
    "                \"organism\": [\n",
    "                    {\n",
    "                        \"text\": species,\n",
    "                        \"ontologyTerms\": [speciesOntology[species]]\n",
    "                      }\n",
    "                ]\n",
    "            },\n",
    "#            \"relationships\": [],\n",
    "            \"externalReferences\": [\n",
    "                { \n",
    "                  # NOT YET IMPLEMENTED IN OUR ENDPOINT \"url\": \"https://pippa.psb.ugent.be/pippa_experiments/brapi/v1/phenotype-search?germplasmDbIds=%s\" % i['germplasmDbId']\n",
    "                  \"url\": \"https://pippa.psb.ugent.be/pippa_experiments/brapi/v1/germplasm-search?germplasmName=%s\" % i['germplasmName'].replace(' ', '%20')\n",
    "\n",
    "                }\n",
    "              ]\n",
    "        }\n",
    "\n",
    "        #pp = pprint.PrettyPrinter(indent=1)\n",
    "        #pp.pprint(sample_json)\n",
    "        jsons.append(sample_json)\n",
    "        n -= 1\n",
    "        if n <= 0:\n",
    "            break\n",
    "    return jsons"
   ]
  },
  {
   "cell_type": "code",
   "execution_count": 9,
   "metadata": {
    "collapsed": true
   },
   "outputs": [],
   "source": [
    "def runCode (code) :\n",
    "    ssh = subprocess.Popen([code],\n",
    "                       shell=True,\n",
    "                       stdout=subprocess.PIPE,\n",
    "                       stderr=subprocess.PIPE)\n",
    "    result = ssh.stdout.readlines()\n",
    "    error = ssh.stderr.readlines()\n",
    "    \n",
    "    return(result, error)"
   ]
  },
  {
   "cell_type": "markdown",
   "metadata": {},
   "source": [
    "## Generate bash files"
   ]
  },
  {
   "cell_type": "code",
   "execution_count": 10,
   "metadata": {
    "collapsed": true
   },
   "outputs": [],
   "source": [
    "# parameter : json file to submit to get bioSampleID\n",
    "with open(\"BioSamplesData/getBioSampleID.sh\", 'w') as f:\n",
    "    f.write(\"cat \\\"$1\\\" | curl -X POST -H \\\"Content-Type: application/json\\\" -d @- \\\"http://byod.psblocal:8081/biosamples/beta/samples/\\\"\\n\")\n",
    "    \n",
    "# parameter : relative path to folder, bioSampleID \n",
    "# filename needs to be the same as bioSampleID, so enforced in rest of the code\n",
    "with open(\"BioSamplesData/submitBioSample.sh\", 'w') as f:\n",
    "    f.write(\"cat \\\"$1/$2.json\\\" | curl -X PUT -H \\\"Content-Type: application/json\\\" -d @- \\\"http://byod.psblocal:8081/biosamples/beta/samples/$2\\\"\\n\")\n",
    "\n",
    "# parameter : bioSampleID \n",
    "with open(\"BioSamplesData/getBioSample.sh\", 'w') as f:\n",
    "    f.write(\"curl -X GET -H \\\"Accept: application/hal+json\\\" \\\"http://byod.psblocal:8081/biosamples/beta/samples/$1\\\"\\n\")"
   ]
  },
  {
   "cell_type": "markdown",
   "metadata": {},
   "source": [
    "## Make bash files executable"
   ]
  },
  {
   "cell_type": "code",
   "execution_count": 11,
   "metadata": {
    "collapsed": true
   },
   "outputs": [],
   "source": [
    "%%bash\n",
    "chmod u+x \"BioSamplesData/getBioSampleID.sh\"\n",
    "chmod u+x \"BioSamplesData/submitBioSample.sh\"\n",
    "chmod u+x \"BioSamplesData/getBioSample.sh\""
   ]
  },
  {
   "cell_type": "markdown",
   "metadata": {},
   "source": [
    "## Species ontology mapping\n",
    "\n",
    "As we don't have a species ontology in our VIB BrAPI endpoint, hardcoded hash"
   ]
  },
  {
   "cell_type": "code",
   "execution_count": 12,
   "metadata": {
    "collapsed": true
   },
   "outputs": [],
   "source": [
    "speciesOntology = {\n",
    "    'Zea mays' : \"http://purl.obolibrary.org/obo/NCBITaxon_4577\"\n",
    "}"
   ]
  },
  {
   "cell_type": "markdown",
   "metadata": {},
   "source": [
    "# Generate BioSamples"
   ]
  },
  {
   "cell_type": "code",
   "execution_count": null,
   "metadata": {
    "collapsed": true
   },
   "outputs": [],
   "source": [
    "for my_json in generate_biosample_json(start = 0, maximum = 1):\n",
    "    filename = my_json['name'] + \".json\"\n",
    "    \n",
    "    print (\"writing json\\n\")\n",
    "    with open(\"BioSamplesData/%s\" % filename, 'w') as f:\n",
    "        json.dump(my_json, f, sort_keys = True, indent = 4, ensure_ascii = False)\n",
    "    print (\"...done\\n\")\n",
    "\n",
    "    print (\"getting ID\\n\") \n",
    "    getBioSampleIDcode = 'BioSamplesData/getBioSampleID.sh %s' % (\"BioSamplesData/%s\" % filename)\n",
    "\n",
    "    (result, error) = runCode(getBioSampleIDcode)\n",
    "    print (\"...done\\n\")\n",
    "    for e in error:\n",
    "        print (\"%s\" % e.decode(\"utf-8\").rstrip())\n",
    "\n",
    "    # overwriting the file we previously generated\n",
    "    biosampleID = None\n",
    "    pattern = re.compile('.*\"accession\" : \"(\\w*\\d*)\",.*')\n",
    "\n",
    "    print (\"pushing data\\n\")\n",
    "    with open(\"BioSamplesData/%s\" % filename, 'w') as f:\n",
    "        for r in result:\n",
    "            #print(r.decode(\"utf-8\").rstrip())\n",
    "            line = r.decode(\"utf-8\").rstrip()\n",
    " \n",
    "            if pattern.match(line):\n",
    "                match = pattern.match(line)\n",
    "                biosampleID = match.group(1)\n",
    "                \n",
    "            f.write(line)\n",
    "            \n",
    "    if biosampleID: # not None\n",
    "        print(biosampleID)\n",
    "        # writing the return BioSample object to a file\n",
    "        with open(\"BioSamplesData/%s.json\" % biosampleID, 'w') as f:\n",
    "            for r in result:\n",
    "                line = r.decode(\"utf-8\").rstrip()\n",
    "                f.write(line)\n",
    "       \n",
    "        # submitting\n",
    "        print (\">>> writing data\\n\")\n",
    "\n",
    "        putBioSamplecode = 'BioSamplesData/submitBioSample.sh %s %s' % (\"BioSamplesData\", biosampleID)\n",
    "        #print(putBioSamplecode)\n",
    "        (result, error) = runCode(putBioSamplecode)\n",
    "        for e in error:\n",
    "            print (\"%s\" % e.decode(\"utf-8\").rstrip())\n",
    "        for r in result:\n",
    "            print (r.decode(\"utf-8\").rstrip())\n",
    "\n",
    "        # getting it back from the DB\n",
    "        print (\">>> checking data\\n\")\n",
    "        getBioSamplecode = 'BioSamplesData/getBioSample.sh %s' % (biosampleID)\n",
    "        (result, error) = runCode(getBioSamplecode)\n",
    "        for e in error:\n",
    "            print (\"%s\" % e.decode(\"utf-8\").rstrip())\n",
    "        for r in result:\n",
    "            print(r.decode(\"utf-8\").rstrip())\n",
    "    else:\n",
    "        print(\"ERROR no BioSample ID\\n\")\n",
    "    print (\"...done\\n\")\n",
    "\n",
    "             \n",
    "    print(filename)"
   ]
  }
 ],
 "metadata": {
  "kernelspec": {
   "display_name": "Python 3",
   "language": "python",
   "name": "python3"
  },
  "language_info": {
   "codemirror_mode": {
    "name": "ipython",
    "version": 3
   },
   "file_extension": ".py",
   "mimetype": "text/x-python",
   "name": "python",
   "nbconvert_exporter": "python",
   "pygments_lexer": "ipython3",
   "version": "3.4.2"
  }
 },
 "nbformat": 4,
 "nbformat_minor": 0
}
